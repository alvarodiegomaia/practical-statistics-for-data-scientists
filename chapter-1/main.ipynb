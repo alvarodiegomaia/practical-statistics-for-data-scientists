{
 "cells": [
  {
   "cell_type": "markdown",
   "metadata": {},
   "source": [
    "# Chapter 1: Exploratory data analysis\n",
    "\n",
    "- Classcal statistics\n",
    "    - Focused almos exclusively on inference;\n",
    "    - Complex set of procedures for drawing conclusions about large populations based on small samples.\n",
    "- Data analysis\n",
    "    - Tukey's 1977 book:\n",
    "        - Exploratory data analysis.\n",
    "    - Statistical inferece is just on component;\n",
    "    - Links with engineering and computer science;\n",
    "    - Availability of computing power evolved data analysis beyond its original scope;\n",
    "    - David Donoho article 2015."
   ]
  },
  {
   "cell_type": "markdown",
   "metadata": {},
   "source": [
    "## Elements of structure data"
   ]
  },
  {
   "cell_type": "markdown",
   "metadata": {},
   "source": [
    "### Two types of data:\n",
    "- Numeric data:\n",
    "    - Data expressed on a numeric scale;\n",
    "    - Continuous:\n",
    "        - Can take any value (float).\n",
    "    - Discrete:\n",
    "        - Only integer values (int).\n",
    "- Categorical:\n",
    "    - Can take only specific set of values;\n",
    "    - Represent a set of possible categories:\n",
    "        - Binary:\n",
    "            - Just two categories (bool).\n",
    "        - Ordinal:\n",
    "            - Data has an ordering factor."
   ]
  },
  {
   "cell_type": "markdown",
   "metadata": {},
   "source": [
    "### Key ideas:\n",
    "- Data is tipically classified in software by type;\n",
    "- Data types include numeric and categorical;\n",
    "- Data typing in software acts as a signal to the software on how to process the data."
   ]
  },
  {
   "cell_type": "markdown",
   "metadata": {},
   "source": [
    "### Rectangular data\n",
    "\n",
    "Key terms:\n",
    "- Dataframe:\n",
    "    - Rectangular data (spreadsheet) is the basic data structure for statistical and machine learning models.\n",
    "- Feature:\n",
    "    - A column within a table is commonly referred to as a feature:\n",
    "        - Atribute, input, predictor, variable.\n",
    "- Outcome:\n",
    "    - Data science projects involve predicting an outcome;\n",
    "    - Features ar used to predict the outcome in an experiment;\n",
    "    - Synonyms: dependent variable, response, target, output.\n",
    "- Records:\n",
    "    - A row with the table;\n",
    "    - Synonyms: case, example, instance, obsercation, patter, sample."
   ]
  },
  {
   "cell_type": "code",
   "execution_count": 2,
   "metadata": {},
   "outputs": [],
   "source": [
    "import pandas as pd\n",
    "import numpy as np"
   ]
  },
  {
   "cell_type": "code",
   "execution_count": 3,
   "metadata": {},
   "outputs": [
    {
     "data": {
      "text/html": [
       "<div>\n",
       "<style scoped>\n",
       "    .dataframe tbody tr th:only-of-type {\n",
       "        vertical-align: middle;\n",
       "    }\n",
       "\n",
       "    .dataframe tbody tr th {\n",
       "        vertical-align: top;\n",
       "    }\n",
       "\n",
       "    .dataframe thead th {\n",
       "        text-align: right;\n",
       "    }\n",
       "</style>\n",
       "<table border=\"1\" class=\"dataframe\">\n",
       "  <thead>\n",
       "    <tr style=\"text-align: right;\">\n",
       "      <th></th>\n",
       "      <th>Category</th>\n",
       "      <th>currency</th>\n",
       "      <th>sellerRating</th>\n",
       "      <th>Duration</th>\n",
       "      <th>endDay</th>\n",
       "      <th>ClosePrice</th>\n",
       "      <th>OpenPrice</th>\n",
       "      <th>Competitive?</th>\n",
       "    </tr>\n",
       "  </thead>\n",
       "  <tbody>\n",
       "    <tr>\n",
       "      <th>1</th>\n",
       "      <td>Music/Movie/Game</td>\n",
       "      <td>US</td>\n",
       "      <td>3249</td>\n",
       "      <td>5</td>\n",
       "      <td>Mon</td>\n",
       "      <td>0.01</td>\n",
       "      <td>0.01</td>\n",
       "      <td>0</td>\n",
       "    </tr>\n",
       "    <tr>\n",
       "      <th>2</th>\n",
       "      <td>Automotive</td>\n",
       "      <td>US</td>\n",
       "      <td>3115</td>\n",
       "      <td>7</td>\n",
       "      <td>Tue</td>\n",
       "      <td>0.01</td>\n",
       "      <td>0.01</td>\n",
       "      <td>0</td>\n",
       "    </tr>\n",
       "  </tbody>\n",
       "</table>\n",
       "</div>"
      ],
      "text/plain": [
       "           Category currency sellerRating Duration endDay ClosePrice  \\\n",
       "1  Music/Movie/Game       US         3249        5    Mon       0.01   \n",
       "2        Automotive       US         3115        7    Tue       0.01   \n",
       "\n",
       "  OpenPrice Competitive?  \n",
       "1      0.01            0  \n",
       "2      0.01            0  "
      ]
     },
     "execution_count": 3,
     "metadata": {},
     "output_type": "execute_result"
    }
   ],
   "source": [
    "pd.DataFrame(\n",
    "    {\n",
    "        1: {\n",
    "            'Category' : 'Music/Movie/Game',\n",
    "            'currency' : 'US',\n",
    "            'sellerRating' : 3249,\n",
    "            'Duration' : 5,\n",
    "            'endDay' : 'Mon',\n",
    "            'ClosePrice' : 0.01,\n",
    "            'OpenPrice' : 0.01,\n",
    "            'Competitive?' : 0,\n",
    "        },\n",
    "        2: {\n",
    "            'Category' : 'Automotive',\n",
    "            'currency' : 'US',\n",
    "            'sellerRating' : 3115,\n",
    "            'Duration' : 7,\n",
    "            'endDay' : 'Tue',\n",
    "            'ClosePrice' : 0.01,\n",
    "            'OpenPrice' : 0.01,\n",
    "            'Competitive?' : 0,\n",
    "        }\n",
    "    }\n",
    ").T"
   ]
  },
  {
   "cell_type": "markdown",
   "metadata": {},
   "source": [
    "## Data frames and indexes\n",
    "\n",
    "- Databases have one or mode columns designated as indexes;\n",
    "- Essentially a row number."
   ]
  },
  {
   "cell_type": "markdown",
   "metadata": {},
   "source": [
    "### Nonrectangular data strucutres\n",
    "\n",
    "- Time series:\n",
    "    - Sucessive measurements of the same variable;\n",
    "    - Indexed by a date/time value;\n",
    "    - Key cinoibebte for internet of things.\n",
    "- Spatial data structures:\n",
    "    - Used for mapping and location analytics;\n",
    "    - More complex than rectangular data.\n",
    "- Graph or network:\n",
    "    - Used to represent physical, social and abstract relationships.\n"
   ]
  },
  {
   "cell_type": "markdown",
   "metadata": {},
   "source": [
    "### Estimates of location\n",
    "\n",
    "- Variables with measured or count data might have thousands of distinct values;\n",
    "- A basic step is getting a tipic value for each feature.\n",
    "\n",
    "Key terms for estimates of location:\n",
    "- Mean:\n",
    "    - The sum of all values divided by the number of values;\n",
    "    - Synonym: avarage.\n",
    "- Weighted mean:\n",
    "    - The sum of all values divided by the sum of the weights;\n",
    "    - Synonym: weighted average.\n",
    "- Median:\n",
    "    - The value such that one-half of the data lies above and below;\n",
    "    - Synonym: 50th percentile.\n",
    "- Percentile:\n",
    "    - The value such that $P$ percent of the data lies below;\n",
    "    - Synonym: quantile.\n",
    "- Weighted median:\n",
    "    - The value such one-half of the sum of the weights lies above and below the sorted data.\n",
    "- Trimmed mean:\n",
    "    - The average of all values after dropping a fixed number of extreme values;\n",
    "    - Synonym: truncated mean.\n",
    "- Robust:\n",
    "    - Not sensitive to extreme values;\n",
    "    - Synonym: resistant.\n",
    "- Outlier\n",
    "    - A data value that is very different from most of the data;\n",
    "    - Synonym: extreme value."
   ]
  },
  {
   "cell_type": "markdown",
   "metadata": {},
   "source": [
    "#### Mean\n",
    "\n",
    "$$\n",
    "    \\bar{x}_t = \\frac{\n",
    "            \\sum_{i = 1}^{n}{\n",
    "                x_i\n",
    "            }\n",
    "        }\n",
    "        {\n",
    "            n\n",
    "        }\n",
    "$$"
   ]
  },
  {
   "cell_type": "markdown",
   "metadata": {},
   "source": [
    "#### Trimmed mean\n",
    "\n",
    "- A variation of the mean;\n",
    "- Calculate by dropping a fixed number of sorted values at each end and then taking a average of the remaining values;\n",
    "- Eliminates the influence of extreme values.\n",
    "\n",
    "\n",
    "$$\n",
    "    \\bar{x} = \\frac{\n",
    "            \\sum_{i = p + 1}^{n - p}\n",
    "            {\n",
    "                x_i\n",
    "            }\n",
    "        }\n",
    "        {\n",
    "            n - 2p\n",
    "        }\n",
    "$$"
   ]
  },
  {
   "cell_type": "markdown",
   "metadata": {},
   "source": [
    "#### Weighted mean\n",
    "\n",
    "- Calculated by multiplying each value $x_i$ by a user-specified weight $w_i$ and divided by the sum of the weights;\n",
    "- Motivations:\n",
    "    - Some values are instrinsically more variable than others and must recieve a lower weight;\n",
    "    - The data collect does not equally representes the different groups that are interested in measuring.\n",
    "\n",
    "$$\n",
    "    \\bar{x}_w = \\frac{\n",
    "            \\sum_{i = 1}^{n}\n",
    "            {\n",
    "                w_i x_i\n",
    "            }\n",
    "        }\n",
    "        {\n",
    "            \\sum_{i = 1}^{n}\n",
    "            {\n",
    "                w_i\n",
    "            }\n",
    "        }\n",
    "$$"
   ]
  },
  {
   "cell_type": "markdown",
   "metadata": {},
   "source": [
    "#### Median and robusst estimates\n",
    "\n",
    "- The median is the middle number on a sorted list of data;\n",
    "- Is the list is an even number of data values, the middle is one the average of the two values that divide the data.\n",
    "- When the mean is sensitive to the data, the median is a better metric;\n",
    "- Is also possible to compute a weighted median;"
   ]
  },
  {
   "cell_type": "markdown",
   "metadata": {},
   "source": [
    "#### Outliers\n",
    "\n",
    "- A value very distant from the others in the dataset;\n",
    "- Usually identified outside the percentiles."
   ]
  },
  {
   "cell_type": "markdown",
   "metadata": {},
   "source": [
    "#### Example: Location estimates of population and murder rates"
   ]
  },
  {
   "cell_type": "code",
   "execution_count": 5,
   "metadata": {},
   "outputs": [
    {
     "data": {
      "text/html": [
       "<div>\n",
       "<style scoped>\n",
       "    .dataframe tbody tr th:only-of-type {\n",
       "        vertical-align: middle;\n",
       "    }\n",
       "\n",
       "    .dataframe tbody tr th {\n",
       "        vertical-align: top;\n",
       "    }\n",
       "\n",
       "    .dataframe thead th {\n",
       "        text-align: right;\n",
       "    }\n",
       "</style>\n",
       "<table border=\"1\" class=\"dataframe\">\n",
       "  <thead>\n",
       "    <tr style=\"text-align: right;\">\n",
       "      <th></th>\n",
       "      <th>State</th>\n",
       "      <th>Population</th>\n",
       "      <th>Murder.Rate</th>\n",
       "      <th>Abbreviation</th>\n",
       "    </tr>\n",
       "  </thead>\n",
       "  <tbody>\n",
       "    <tr>\n",
       "      <th>0</th>\n",
       "      <td>Alabama</td>\n",
       "      <td>4779736</td>\n",
       "      <td>5.7</td>\n",
       "      <td>AL</td>\n",
       "    </tr>\n",
       "    <tr>\n",
       "      <th>1</th>\n",
       "      <td>Alaska</td>\n",
       "      <td>710231</td>\n",
       "      <td>5.6</td>\n",
       "      <td>AK</td>\n",
       "    </tr>\n",
       "    <tr>\n",
       "      <th>2</th>\n",
       "      <td>Arizona</td>\n",
       "      <td>6392017</td>\n",
       "      <td>4.7</td>\n",
       "      <td>AZ</td>\n",
       "    </tr>\n",
       "    <tr>\n",
       "      <th>3</th>\n",
       "      <td>Arkansas</td>\n",
       "      <td>2915918</td>\n",
       "      <td>5.6</td>\n",
       "      <td>AR</td>\n",
       "    </tr>\n",
       "    <tr>\n",
       "      <th>4</th>\n",
       "      <td>California</td>\n",
       "      <td>37253956</td>\n",
       "      <td>4.4</td>\n",
       "      <td>CA</td>\n",
       "    </tr>\n",
       "    <tr>\n",
       "      <th>5</th>\n",
       "      <td>Colorado</td>\n",
       "      <td>5029196</td>\n",
       "      <td>2.8</td>\n",
       "      <td>CO</td>\n",
       "    </tr>\n",
       "    <tr>\n",
       "      <th>6</th>\n",
       "      <td>Connecticut</td>\n",
       "      <td>3574097</td>\n",
       "      <td>2.4</td>\n",
       "      <td>CT</td>\n",
       "    </tr>\n",
       "    <tr>\n",
       "      <th>7</th>\n",
       "      <td>Delaware</td>\n",
       "      <td>897934</td>\n",
       "      <td>5.8</td>\n",
       "      <td>DE</td>\n",
       "    </tr>\n",
       "  </tbody>\n",
       "</table>\n",
       "</div>"
      ],
      "text/plain": [
       "         State  Population  Murder.Rate Abbreviation\n",
       "0      Alabama     4779736          5.7           AL\n",
       "1       Alaska      710231          5.6           AK\n",
       "2      Arizona     6392017          4.7           AZ\n",
       "3     Arkansas     2915918          5.6           AR\n",
       "4   California    37253956          4.4           CA\n",
       "5     Colorado     5029196          2.8           CO\n",
       "6  Connecticut     3574097          2.4           CT\n",
       "7     Delaware      897934          5.8           DE"
      ]
     },
     "execution_count": 5,
     "metadata": {},
     "output_type": "execute_result"
    }
   ],
   "source": [
    "df = pd.read_csv('../data/state.csv')\n",
    "df.head(8)"
   ]
  },
  {
   "cell_type": "markdown",
   "metadata": {},
   "source": [
    "Compute mean"
   ]
  },
  {
   "cell_type": "code",
   "execution_count": 6,
   "metadata": {},
   "outputs": [
    {
     "data": {
      "text/plain": [
       "6162876.3"
      ]
     },
     "execution_count": 6,
     "metadata": {},
     "output_type": "execute_result"
    }
   ],
   "source": [
    "df['Population'].mean()"
   ]
  },
  {
   "cell_type": "markdown",
   "metadata": {},
   "source": [
    "Compute median"
   ]
  },
  {
   "cell_type": "code",
   "execution_count": 13,
   "metadata": {},
   "outputs": [
    {
     "data": {
      "text/plain": [
       "4436369.5"
      ]
     },
     "execution_count": 13,
     "metadata": {},
     "output_type": "execute_result"
    }
   ],
   "source": [
    "df['Population'].median()"
   ]
  },
  {
   "cell_type": "markdown",
   "metadata": {},
   "source": [
    "Compute trimmed mean"
   ]
  },
  {
   "cell_type": "code",
   "execution_count": 16,
   "metadata": {},
   "outputs": [
    {
     "data": {
      "text/plain": [
       "4783697.125"
      ]
     },
     "execution_count": 16,
     "metadata": {},
     "output_type": "execute_result"
    }
   ],
   "source": [
    "from scipy import stats\n",
    "\n",
    "stats.trim_mean(df['Population'], 0.1)"
   ]
  },
  {
   "cell_type": "markdown",
   "metadata": {},
   "source": [
    "The mean is bigger than the trimmed mean which is bigger than the median"
   ]
  },
  {
   "cell_type": "markdown",
   "metadata": {},
   "source": [
    "The average murder rate for the country needs to use a weighted mean or median to account the different population in states."
   ]
  },
  {
   "cell_type": "code",
   "execution_count": 19,
   "metadata": {},
   "outputs": [
    {
     "data": {
      "text/plain": [
       "4.445833981123393"
      ]
     },
     "execution_count": 19,
     "metadata": {},
     "output_type": "execute_result"
    }
   ],
   "source": [
    "np.average(df['Murder.Rate'], weights=df['Population'])"
   ]
  },
  {
   "cell_type": "code",
   "execution_count": 26,
   "metadata": {},
   "outputs": [
    {
     "data": {
      "text/plain": [
       "4.4"
      ]
     },
     "execution_count": 26,
     "metadata": {},
     "output_type": "execute_result"
    }
   ],
   "source": [
    "import weightedstats as ws\n",
    "\n",
    "ws.weighted_median(df['Murder.Rate'], weights=df['Population'])"
   ]
  },
  {
   "cell_type": "markdown",
   "metadata": {},
   "source": [
    "#### Key ideas\n",
    "\n",
    "- Mean is the basic metric for location, but is sensitive to extreme values (outliers);\n",
    "- Other metrics are less sensitive to outliers and ununsual distributions and hence, more robust."
   ]
  }
 ],
 "metadata": {
  "kernelspec": {
   "display_name": "ts-min",
   "language": "python",
   "name": "python3"
  },
  "language_info": {
   "codemirror_mode": {
    "name": "ipython",
    "version": 3
   },
   "file_extension": ".py",
   "mimetype": "text/x-python",
   "name": "python",
   "nbconvert_exporter": "python",
   "pygments_lexer": "ipython3",
   "version": "3.11.4"
  },
  "orig_nbformat": 4
 },
 "nbformat": 4,
 "nbformat_minor": 2
}
