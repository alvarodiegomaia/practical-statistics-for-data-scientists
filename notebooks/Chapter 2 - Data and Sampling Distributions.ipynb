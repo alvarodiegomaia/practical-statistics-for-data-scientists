{
 "cells": [
  {
   "cell_type": "markdown",
   "metadata": {},
   "source": [
    "# Chapter 2: Data and Sampling Distributions"
   ]
  },
  {
   "cell_type": "markdown",
   "metadata": {},
   "source": [
    "## Libraries"
   ]
  },
  {
   "cell_type": "code",
   "execution_count": 5,
   "metadata": {},
   "outputs": [],
   "source": [
    "import numpy as np\n",
    "import pandas as pd\n",
    "\n",
    "import matplotlib.pyplot as plt\n",
    "import seaborn as sns"
   ]
  },
  {
   "cell_type": "markdown",
   "metadata": {},
   "source": [
    "## Random sampling and sample bias\n",
    "\n",
    "- Sample:\n",
    "    - A subset from a lager data set.\n",
    "- Population:\n",
    "    - The larger data set or idea of a data set.\n",
    "- $N(n)$:\n",
    "    - The size of population (sample).\n",
    "- Random sampling:\n",
    "    - Drawing elements into a sample at random.\n",
    "- Stratified sampling:\n",
    "    - Dividing the population into strata and randomly sampling from each strata.\n",
    "- Stratum (pl. strata):\n",
    "    - A homogeneous subgroup of a population with common characteristics.\n",
    "- Simple random sample:\n",
    "    - The sample that results from random sampling without stratifying the population.\n",
    "- Bias:\n",
    "    - Systematic error.\n",
    "- Sample bias:\n",
    "    - A sample that misrepresents the population."
   ]
  },
  {
   "cell_type": "markdown",
   "metadata": {},
   "source": [
    "## Sample mean vs. population mean\n",
    "- Even in the era of big data, random sampling remains an important arrow in the data scientist’s quiver.\n",
    "- Bias occurs when measurements or observations are systematically in error because they are not representative of the full population.\n",
    "- Data quality is often more important than data quantity, and random sampling can reduce bias and facilitate quality improvement that would otherwise be prohibitively expensive.\n"
   ]
  },
  {
   "cell_type": "markdown",
   "metadata": {},
   "source": [
    "## Selection bias\n",
    "\n",
    "- Selection bias:\n",
    "    - Bias resulting from the way in which observations are selected.\n",
    "- Data snooping:\n",
    "    - Extensive hunting through data in search of something interesting.\n",
    "- Vast search effect:\n",
    "    - Bias or nonreproducibility resulting from repeated data modeling, or modeling data with large numbers of predictor variables."
   ]
  },
  {
   "cell_type": "markdown",
   "metadata": {},
   "source": [
    "## Regression to the mean\n",
    "\n",
    "- Specifying a hypothesis and then collecting data following randomization and random sampling principles ensures against bias.\n",
    "- All other forms of data analysis run the risk of bias resulting from the data collection/analysis process (repeated running of models in data mining, data snooping in research, and after-the-fact selection of interesting events)."
   ]
  },
  {
   "cell_type": "markdown",
   "metadata": {},
   "source": [
    "## Sampling distribution of a statistic\n",
    "\n",
    "- Sample statistic:\n",
    "    - A metric calculated for a sample of data drawn from a larger population.\n",
    "- Data distribution:\n",
    "    - The frequency distribution of individual values in a data set.\n",
    "- Sampling distribution:\n",
    "    - The frequency distribution of a sample statistic over many samples or resamples.\n",
    "- Central limit theorem:\n",
    "    - The tendency of the sampling distribution to take on a normal shape as sample size rises.\n",
    "- Standard error:\n",
    "    - The variability (standard deviation) of a sample statistic over many samples (not to be confused with standard deviation, which by itself, refers to variability of individual data values).\n",
    "\n",
    "\n",
    "It is important to distinguish between the distribution of the individual data points, known as the data distribution, and the distribution of a sample statistic, known as the sampling distribution."
   ]
  },
  {
   "cell_type": "code",
   "execution_count": 6,
   "metadata": {},
   "outputs": [
    {
     "data": {
      "text/plain": [
       "0     67000\n",
       "1     52000\n",
       "2    100000\n",
       "3     78762\n",
       "4     37041\n",
       "Name: x, dtype: int64"
      ]
     },
     "execution_count": 6,
     "metadata": {},
     "output_type": "execute_result"
    }
   ],
   "source": [
    "df_loans = pd.read_csv('../data/loans_income.csv').squeeze('columns')\n",
    "df_loans.head()"
   ]
  },
  {
   "cell_type": "code",
   "execution_count": 7,
   "metadata": {},
   "outputs": [
    {
     "data": {
      "text/html": [
       "<div>\n",
       "<style scoped>\n",
       "    .dataframe tbody tr th:only-of-type {\n",
       "        vertical-align: middle;\n",
       "    }\n",
       "\n",
       "    .dataframe tbody tr th {\n",
       "        vertical-align: top;\n",
       "    }\n",
       "\n",
       "    .dataframe thead th {\n",
       "        text-align: right;\n",
       "    }\n",
       "</style>\n",
       "<table border=\"1\" class=\"dataframe\">\n",
       "  <thead>\n",
       "    <tr style=\"text-align: right;\">\n",
       "      <th></th>\n",
       "      <th>income</th>\n",
       "      <th>type</th>\n",
       "    </tr>\n",
       "  </thead>\n",
       "  <tbody>\n",
       "    <tr>\n",
       "      <th>1769</th>\n",
       "      <td>40000.00</td>\n",
       "      <td>Data</td>\n",
       "    </tr>\n",
       "    <tr>\n",
       "      <th>19995</th>\n",
       "      <td>110000.00</td>\n",
       "      <td>Data</td>\n",
       "    </tr>\n",
       "    <tr>\n",
       "      <th>35057</th>\n",
       "      <td>60000.00</td>\n",
       "      <td>Data</td>\n",
       "    </tr>\n",
       "    <tr>\n",
       "      <th>16457</th>\n",
       "      <td>109000.00</td>\n",
       "      <td>Data</td>\n",
       "    </tr>\n",
       "    <tr>\n",
       "      <th>4661</th>\n",
       "      <td>58000.00</td>\n",
       "      <td>Data</td>\n",
       "    </tr>\n",
       "    <tr>\n",
       "      <th>...</th>\n",
       "      <td>...</td>\n",
       "      <td>...</td>\n",
       "    </tr>\n",
       "    <tr>\n",
       "      <th>995</th>\n",
       "      <td>70294.40</td>\n",
       "      <td>Mean of 20</td>\n",
       "    </tr>\n",
       "    <tr>\n",
       "      <th>996</th>\n",
       "      <td>57803.50</td>\n",
       "      <td>Mean of 20</td>\n",
       "    </tr>\n",
       "    <tr>\n",
       "      <th>997</th>\n",
       "      <td>65137.40</td>\n",
       "      <td>Mean of 20</td>\n",
       "    </tr>\n",
       "    <tr>\n",
       "      <th>998</th>\n",
       "      <td>68749.90</td>\n",
       "      <td>Mean of 20</td>\n",
       "    </tr>\n",
       "    <tr>\n",
       "      <th>999</th>\n",
       "      <td>46446.25</td>\n",
       "      <td>Mean of 20</td>\n",
       "    </tr>\n",
       "  </tbody>\n",
       "</table>\n",
       "<p>3000 rows × 2 columns</p>\n",
       "</div>"
      ],
      "text/plain": [
       "          income        type\n",
       "1769    40000.00        Data\n",
       "19995  110000.00        Data\n",
       "35057   60000.00        Data\n",
       "16457  109000.00        Data\n",
       "4661    58000.00        Data\n",
       "...          ...         ...\n",
       "995     70294.40  Mean of 20\n",
       "996     57803.50  Mean of 20\n",
       "997     65137.40  Mean of 20\n",
       "998     68749.90  Mean of 20\n",
       "999     46446.25  Mean of 20\n",
       "\n",
       "[3000 rows x 2 columns]"
      ]
     },
     "execution_count": 7,
     "metadata": {},
     "output_type": "execute_result"
    }
   ],
   "source": [
    "sample_data = pd.DataFrame({\n",
    "    'income' : df_loans.sample(1000),\n",
    "    'type': 'Data',\n",
    "})\n",
    "\n",
    "sample_mean_05 = pd.DataFrame({\n",
    "    'income': [df_loans.sample(5).mean() for _ in range(1000)],\n",
    "    'type': 'Mean of 5',\n",
    "})\n",
    "\n",
    "sample_mean_20 = pd.DataFrame({\n",
    "    'income': [df_loans.sample(20).mean() for _ in range(1000)],\n",
    "    'type': 'Mean of 20',\n",
    "})\n",
    "\n",
    "results = pd.concat([sample_data, sample_mean_05, sample_mean_20])\n",
    "results"
   ]
  },
  {
   "cell_type": "code",
   "execution_count": 8,
   "metadata": {},
   "outputs": [
    {
     "data": {
      "image/png": "[encoded data removed]",
      "text/plain": [
       "<Figure size 400x600 with 3 Axes>"
      ]
     },
     "metadata": {},
     "output_type": "display_data"
    }
   ],
   "source": [
    "%%capture --no-display\n",
    "\n",
    "g = sns.FacetGrid(results, col='type', col_wrap=1, height=2, aspect=2)\n",
    "g.map(plt.hist, 'income', range=[0, 200000], bins=40)\n",
    "g.set_axis_labels('Income', 'Count')\n",
    "g.set_titles('{col_name}')\n",
    "g.tight_layout()\n",
    "\n",
    "plt.show()"
   ]
  },
  {
   "cell_type": "markdown",
   "metadata": {},
   "source": [
    "### Central limit theorem\n",
    "\n",
    "- The mean drawn from multiple samples from a source will be familiar bell-shaped normal curve.\n",
    "- Even if the source population isn't a normal distribution:\n",
    "    - Since the sample size is large enough.\n",
    "    - The data deviation isn't large.\n",
    "- Allows formulas of normal-approximation like t-distributions."
   ]
  },
  {
   "cell_type": "markdown",
   "metadata": {},
   "source": [
    "### Standart error\n",
    "\n",
    "- Sums up the variability in the sampling distribution.\n",
    "- Can be estimated using the standart deviation $s$.\n",
    "$$\n",
    "    \\text{Standart error} = SE = \\frac{s}{\\sqrt{n}}\n",
    "$$\n",
    "- Decrease with the sample size.\n"
   ]
  },
  {
   "cell_type": "code",
   "execution_count": 60,
   "metadata": {},
   "outputs": [
    {
     "data": {
      "image/png": "[encoded data removed]",
      "text/plain": [
       "<Figure size 640x480 with 1 Axes>"
      ]
     },
     "metadata": {},
     "output_type": "display_data"
    }
   ],
   "source": [
    "%%capture --no-display\n",
    "\n",
    "df_loans_mean = {}\n",
    "for i in range(100):\n",
    "    bootstrap_sample = df_loans.sample(n=1000, replace=True, random_state=i)\n",
    "    df_loans_mean[i] = bootstrap_sample.mean()\n",
    "\n",
    "df_loans_mean = pd.Series(df_loans_mean, name='Mean')\n",
    "\n",
    "sns.histplot(df_loans_mean, bins=10)\n",
    "\n",
    "plt.title(f'Standart error: {df_loans_mean.std():.2f}')\n",
    "plt.show()"
   ]
  },
  {
   "cell_type": "code",
   "execution_count": 59,
   "metadata": {},
   "outputs": [
    {
     "data": {
      "image/png": "[encoded data removed]",
      "text/plain": [
       "<Figure size 640x480 with 1 Axes>"
      ]
     },
     "metadata": {},
     "output_type": "display_data"
    }
   ],
   "source": [
    "%%capture --no-display\n",
    "\n",
    "df_loans_mean = {}\n",
    "for i in range(10000):\n",
    "    bootstrap_sample = df_loans.sample(n=1000, replace=True, random_state=i)\n",
    "    df_loans_mean[i] = bootstrap_sample.mean()\n",
    "\n",
    "df_loans_mean = pd.Series(df_loans_mean, name='Mean')\n",
    "\n",
    "sns.histplot(df_loans_mean, bins=10)\n",
    "\n",
    "plt.title(f'Standart error: {df_loans_mean.std():.2f}')\n",
    "plt.show()"
   ]
  },
  {
   "cell_type": "markdown",
   "metadata": {},
   "source": [
    "## Bootsrap"
   ]
  }
 ],
 "metadata": {
  "kernelspec": {
   "display_name": "ds-min",
   "language": "python",
   "name": "python3"
  },
  "language_info": {
   "codemirror_mode": {
    "name": "ipython",
    "version": 3
   },
   "file_extension": ".py",
   "mimetype": "text/x-python",
   "name": "python",
   "nbconvert_exporter": "python",
   "pygments_lexer": "ipython3",
   "version": "3.11.5"
  },
  "orig_nbformat": 4
 },
 "nbformat": 4,
 "nbformat_minor": 2
}
